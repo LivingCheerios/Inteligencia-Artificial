{
 "cells": [
  {
   "cell_type": "markdown",
   "id": "1743f38c-88d5-4a93-a9e4-43ede9146697",
   "metadata": {},
   "source": [
    "<center>Jaime Francisco Barbosa Hernández     615152<center>\n",
    "\n",
    "\n",
    "\n",
    "    \n",
    "<center>SC3314 – Inteligencia Artificial Universidad de Monterrey Dr. Antonio Martínez Torteya<center>\n",
    "\n",
    "\n",
    "# A2.1 Regresión logística y validación cruzada\n",
    "\n",
    "En esta actividad trabajarás con la misma base de datos que trabajaste en el proyecto del primer parcial.\n",
    "\n",
    "Desarrolla los siguientes puntos en una Jupyter Notebook, tratando, dentro de lo posible, que cada punto se trabaje en una celda distinta. Los comentarios en el código siempre son bienvenidos, de preferencia, aprovecha el markdown para generar cuadros de descripción que ayuden al lector a comprender el trabajo realizado."
   ]
  },
  {
   "cell_type": "code",
   "execution_count": 2,
   "id": "2328b843-b4da-4845-8a98-3a30e6a08b68",
   "metadata": {},
   "outputs": [],
   "source": [
    "import pandas as pd\n",
    "import numpy as np\n",
    "import matplotlib.pyplot as plt\n",
    "import statsmodels.api as sm\n",
    "from sklearn.model_selection import train_test_split"
   ]
  },
  {
   "cell_type": "markdown",
   "id": "dba3041e-fd35-4c33-823c-61f54586c97a",
   "metadata": {},
   "source": [
    "## Diccionario"
   ]
  },
  {
   "cell_type": "markdown",
   "id": "71a2e915-522b-4540-8674-075a823f3f7b",
   "metadata": {},
   "source": [
    "[Link de descarga del Diccionario](https://drive.google.com/file/d/1yIrkksD5C3p7XIMlFOkptb_ExQWXf124/view?usp=sharing)"
   ]
  },
  {
   "cell_type": "markdown",
   "id": "87a6b4c0-9021-400f-bb8b-e1bf382b8791",
   "metadata": {},
   "source": [
    "1. Importa los datos a tu ambiente de trabajo. Especifica qué variable utilizarás comovariable de salida, debe tratarse de una variable binaria. Si no hay ninguna variable binaria de interés, binariza la variable de salida que utilizaste en el proyecto (si trataste de predecir el precio de las casas, genera una variable que indique si una casa cuesta más que cierto monto, o menos)."
   ]
  },
  {
   "cell_type": "code",
   "execution_count": 15,
   "id": "3c1fb70a-e13a-407c-84a5-047c11c29be2",
   "metadata": {},
   "outputs": [
    {
     "name": "stdout",
     "output_type": "stream",
     "text": [
      "   ENTIDAD MUNICIPIO CODIGO  ID_ESTRATO      UE        A111A        A121A  \\\n",
      "0       19                          NaN  151448  2195663.395  1322881.181   \n",
      "1       19                          1.0  134527   177892.013    69087.968   \n",
      "2       19                          2.0   12481   195644.861    94364.212   \n",
      "3       19                          3.0    3423   405439.706   230244.418   \n",
      "4       19                          4.0    1017  1416686.815   929184.583   \n",
      "\n",
      "        A131A      A211A      A221A  ...       A256A    A433A   A434A  \\\n",
      "0  872782.214  51952.108  51716.343  ...  211033.684  180.810  94.849   \n",
      "1  108804.045   -656.708   2660.336  ...   50779.019  189.351  96.347   \n",
      "2  101280.649   2762.641   4075.900  ...  127372.743  158.627  96.237   \n",
      "3  175195.288   9685.140   8897.832  ...  213554.274  168.384  94.108   \n",
      "4  487502.232  40161.035  36082.275  ...  306281.750  191.111  94.519   \n",
      "\n",
      "         A436A  A529A   A534A    A747A    A748A    A752A   A764A  \n",
      "0  1430677.699  7.749  30.102  390.233  624.484  115.080  35.866  \n",
      "1   774045.949  8.097  44.672  244.605  320.499  151.943  44.285  \n",
      "2  1372785.008  7.347  30.665  239.635  359.363   94.499  36.126  \n",
      "3  1597661.030  8.387  31.195  311.924  483.604  106.532  33.078  \n",
      "4  1655494.243  7.540  27.320  418.393  638.856  117.421  33.437  \n",
      "\n",
      "[5 rows x 186 columns]\n",
      "\n",
      "(49217, 186)\n",
      "\n",
      "Promedio de K412A: 3.3812051636891662\n",
      "\n",
      "     K412A  y\n",
      "0    1.508  0\n",
      "1    1.508  0\n",
      "2    1.096  0\n",
      "3    1.096  0\n",
      "4    0.103  0\n",
      "5    0.103  0\n",
      "6    0.930  0\n",
      "7    0.930  0\n",
      "8    0.063  0\n",
      "9    0.063  0\n",
      "10   0.176  0\n",
      "11  28.408  1\n",
      "12   0.746  0\n",
      "13   0.746  0\n",
      "14   0.746  0\n",
      "15   0.746  0\n",
      "16   0.746  0\n",
      "17   0.746  0\n",
      "18  17.515  1\n",
      "19  26.498  1\n",
      "\n"
     ]
    }
   ],
   "source": [
    "df_raw= pd.read_csv(\"ce2019_nl.csv\", index_col=False,low_memory=False)\n",
    "print(df_raw.head())\n",
    "print()\n",
    "print(df_raw.shape)\n",
    "\n",
    "print()\n",
    "\n",
    "df=df_raw.copy()\n",
    "\n",
    "# Eliminacion de Huecos\n",
    "umbral = 0.50\n",
    "mask = df.isna().mean(axis=1) < umbral\n",
    "\n",
    "df = df.loc[mask].copy()\n",
    "\n",
    "# Imputacion de ceros\n",
    "\n",
    "num_cols = df.select_dtypes(include=[np.number]).columns\n",
    "\n",
    "means = df[num_cols].mean()\n",
    "\n",
    "df[num_cols] = df[num_cols].replace(0, np.nan)\n",
    "df[num_cols] = df[num_cols].fillna(means)\n",
    "\n",
    "# OutLiers\n",
    "\n",
    "q1=df.K412A.quantile(0.25)\n",
    "\n",
    "q3=df.K412A.quantile(0.75)\n",
    "\n",
    "iqr=q3-q1\n",
    "\n",
    "k=8\n",
    "ll=q1-k*iqr\n",
    "ul=q3+k*iqr\n",
    "\n",
    "\n",
    "out=np.where((df.K412A<=ll)|(df.K412A>=ul))[0]\n",
    "\n",
    "df = df.drop(df.index[out]).reset_index(drop=True)\n",
    "\n",
    "\n",
    "# Proceso de binarzación\n",
    "y_temp=df.K412A\n",
    "\n",
    "promedio = y_temp.mean()\n",
    "print(f\"Promedio de K412A: {promedio}\")\n",
    "print()\n",
    "\n",
    "y = (df['K412A'] >= promedio).astype(int)\n",
    "df = pd.concat([df, y.rename('y')], axis=1)\n",
    "\n",
    "# Verificar resultado\n",
    "\n",
    "print(df[['K412A', 'y']].head(20))\n",
    "print()"
   ]
  },
  {
   "cell_type": "markdown",
   "id": "cf747b28-8299-4f0e-b66a-972fd3189417",
   "metadata": {},
   "source": [
    "---\n",
    "En este inciso, se cargó el Data Frame utilizado en P P1, la cual corresponde al Censo Económico de 2019 en el estado de Nuevo León.  \n",
    "\n",
    "Después se realizo el proceso de limpieza realizado en P P1, eliminando los huecos del DF, imputando con la media los ceros, así como eliminando *Outliers* de la variable de salida, la cual para esta actividad se eligió la **K412A**, que de acuerdo con el diccionaro de varibales, representa el gasto por consumo de energía eléctrica (en millones de pesos). \n",
    "\n",
    "Por último se realizó el proceso de binarización, y al ser una variable no categórica, no se pudo usar la función **get_dummies**, por lo que se utilizó la media como herramienta de binarización. Si la observación está por debajo de la media de gastos, su valor será *0*, en caso contrario será *1*. En consola se pueden ver algunos de los valores sin binarizar, así como la variable ya binarizada. "
   ]
  },
  {
   "cell_type": "markdown",
   "id": "de1a2bab-4327-474c-a8b1-8c967fa6ee61",
   "metadata": {},
   "source": [
    "2. Separa los datos en entrenamiento y prueba, con una relación de 80/20. Asegúrate de mantener un balance de clases (es decir, si en la base de datos hay 70% de observaciones de clase 0 y 30% de observaciones de clase 1, deberá mantenerse una proporción muy similar tanto en los datos de entrenamiento como en los de prueba), e imprime en consola las proporciones para los 3 grupos (datos originales, datos de entrenamiento, datos de prueba)."
   ]
  },
  {
   "cell_type": "code",
   "execution_count": 16,
   "id": "90ce024f-fde0-4ffa-9df3-f1ed7b935c9b",
   "metadata": {},
   "outputs": [
    {
     "name": "stdout",
     "output_type": "stream",
     "text": [
      "Distribución de la variable binaria:\n",
      "\n",
      "K412A\n",
      "0    18421\n",
      "1     5341\n",
      "Name: count, dtype: int64\n",
      "\n",
      "Porciones de la variable binaria:\n",
      "K412A\n",
      "0    77.522936\n",
      "1    22.477064\n",
      "Name: count, dtype: float64\n",
      "__________________________________________________\n",
      "\n",
      "Distribución de la variable binaria de entrenamiento:\n",
      "\n",
      "K412A\n",
      "0    14736\n",
      "1     4273\n",
      "Name: count, dtype: int64\n",
      "\n",
      "Porciones de la variable binaria de entrenamiento:\n",
      "K412A\n",
      "0    77.521174\n",
      "1    22.478826\n",
      "Name: count, dtype: float64\n",
      "__________________________________________________\n",
      "\n",
      "Distribución de la variable binaria de prueba:\n",
      "\n",
      "K412A\n",
      "0    3685\n",
      "1    1068\n",
      "Name: count, dtype: int64\n",
      "\n",
      "Porciones de la variable binaria de prueba:\n",
      "K412A\n",
      "0    77.529981\n",
      "1    22.470019\n",
      "Name: count, dtype: float64\n"
     ]
    }
   ],
   "source": [
    "df=df.drop('K412A',axis=1)\n",
    "feature_cols = ['H001A', 'H001D', 'A111A', 'K060A', 'K820A']\n",
    "x_temp=df[feature_cols]\n",
    "X_train, X_test, Y_train, Y_test = train_test_split(x_temp, y, test_size=0.2, random_state=42, stratify=y)\n",
    "\n",
    "#Comprobación de porciones\n",
    "counts_tot = y.value_counts()\n",
    "porciones = counts_tot / counts_tot.sum() * 100\n",
    "\n",
    "print(\"Distribución de la variable binaria:\")\n",
    "print()\n",
    "print(counts_tot)\n",
    "\n",
    "print()\n",
    "\n",
    "print(\"Porciones de la variable binaria:\")\n",
    "print(porciones)\n",
    "\n",
    "print(\"__________________________________________________\")\n",
    "print()\n",
    "counts_train = Y_train.value_counts()\n",
    "porciones_train = counts_train / counts_train.sum() * 100\n",
    "\n",
    "print(\"Distribución de la variable binaria de entrenamiento:\")\n",
    "print()\n",
    "print(counts_train)\n",
    "\n",
    "print()\n",
    "\n",
    "print(\"Porciones de la variable binaria de entrenamiento:\")\n",
    "print(porciones_train)\n",
    "\n",
    "print(\"__________________________________________________\")\n",
    "print()\n",
    "counts_test = Y_test.value_counts()\n",
    "porciones_test = counts_test / counts_test.sum() * 100\n",
    "\n",
    "print(\"Distribución de la variable binaria de prueba:\")\n",
    "print()\n",
    "print(counts_test)\n",
    "\n",
    "print()\n",
    "\n",
    "print(\"Porciones de la variable binaria de prueba:\")\n",
    "print(porciones_test)\n",
    "\n"
   ]
  },
  {
   "cell_type": "markdown",
   "id": "ec48d1f2-49d5-49dd-b425-286e1c159c66",
   "metadata": {},
   "source": [
    "---\n",
    "En este inciso, se definieron las características del modelo, las cuales fueron las variables **H001A** (Personal Ocupado Total), **H001D** (Horas Trabajados por Personal Ocupado Total), **A111A** (Producciíon Bruta Total), **K060A** (Contratación de Servicios Profesionales, Científicos y Técnicos) y **K820A** (Gastos por Servicios de Comunicación).\n",
    "\n",
    "Posteriormente, se hizo la separación de Train y Test 80%-20% respectivamente, utilizando el comando **stratify**, que permite que la proporcion de cada clase de la variable binara se mantenga al hacer la separación. En consola se imprime la distribución previo a hacer la separación, y vemos que tenemos aproximadamente **78%** de ceros, y **22%** unos, por lo que deberíamos de esperar que en la separación, dicha proporcion se mantenga.\n",
    "\n",
    "Y efectivamente, gracias a **stratify**, vemos que tanto en los datos del Train como del Test, la proporción se mantiene. Esto nos evitará problemas de cesgo u otros errores en el modelo que se generará. "
   ]
  },
  {
   "cell_type": "markdown",
   "id": "7fe80a68-6fb3-4381-9421-9a8bae239068",
   "metadata": {},
   "source": [
    "3. Usando los datos de entrenamiento, mide la exactitud de un modelo de regresión logística usando alguna técnica de validación cruzada. Si tu base de datos era particularmente compleja, puedes trabajar con 5 características de interés, en vez de con toda la base de datos, o de tener que realizar un proceso de selección de características."
   ]
  },
  {
   "cell_type": "code",
   "execution_count": 11,
   "id": "45639ab5-1fdb-4f3f-83f2-0cbe86eb6822",
   "metadata": {},
   "outputs": [
    {
     "name": "stdout",
     "output_type": "stream",
     "text": [
      "Exactitud en cada fold: [0.89163598 0.87927407 0.89689637 0.88742767 0.87082347]\n",
      "Exactitud promedio: 0.8852115109662024\n"
     ]
    }
   ],
   "source": [
    "from sklearn.linear_model import LogisticRegression\n",
    "from sklearn.model_selection import cross_val_score\n",
    "model = LogisticRegression(penalty=\"none\",class_weight=\"balanced\").fit(X_train,Y_train)\n",
    "scores = cross_val_score(model, X_train, Y_train, cv=5, scoring='accuracy')\n",
    "\n",
    "# Mostrar resultados\n",
    "print(\"Exactitud en cada fold:\", scores)\n",
    "print(\"Exactitud promedio:\", np.mean(scores))"
   ]
  },
  {
   "cell_type": "markdown",
   "id": "084bb2f5-ed59-4400-a4b9-5b097466f575",
   "metadata": {},
   "source": [
    "---\n",
    "En este inciso, se generó el modelo de regresión Logística con la variable de salida y sus *features* previamente mencionadas, y se evaluó el desempeño mediente validación cruzada utilizando la función **cross_val_score**, con k-folds=5, y usando **accuracy** como herramienta de scorring para cada modelo. En consola se imprimen los 5 scores de cada grupo, asó como el promedio."
   ]
  },
  {
   "cell_type": "markdown",
   "id": "dccf8a46-1bfb-4e44-aeaf-72f1d8c9d150",
   "metadata": {},
   "source": [
    "4. Entrena un modelo de regresión logística, similar al del punto anterior, pero utilizando todo el subconjunto de datos de entrenamiento. Usando dicho modelo, genera un vector de probabilidades para los datos de prueba. Genera una matriz de confusión y reporta la exactitud, sensibilidad y especificidad del modelo antes 3 diferentes umbrales (0.5, uno mayor, y uno menor)."
   ]
  },
  {
   "cell_type": "code",
   "execution_count": 12,
   "id": "0b02d659-4387-4c32-8d22-ba34dead5e28",
   "metadata": {},
   "outputs": [
    {
     "name": "stdout",
     "output_type": "stream",
     "text": [
      "Umbral = 0.5\n",
      "Exactitud: 0.884\n",
      "Sensibilidad: 0.775\n",
      "Especificidad: 0.916\n",
      "\n",
      "Umbral = 0.7\n",
      "Exactitud: 0.881\n",
      "Sensibilidad: 0.640\n",
      "Especificidad: 0.950\n",
      "\n",
      "Umbral = 0.3\n",
      "Exactitud: 0.840\n",
      "Sensibilidad: 0.919\n",
      "Especificidad: 0.818\n",
      "\n"
     ]
    },
    {
     "data": {
      "image/png": "[encoded data removed]",
      "text/plain": [
       "<Figure size 640x480 with 2 Axes>"
      ]
     },
     "metadata": {},
     "output_type": "display_data"
    },
    {
     "data": {
      "image/png": "[encoded data removed]",
      "text/plain": [
       "<Figure size 640x480 with 2 Axes>"
      ]
     },
     "metadata": {},
     "output_type": "display_data"
    },
    {
     "data": {
      "image/png": "[encoded data removed]",
      "text/plain": [
       "<Figure size 640x480 with 2 Axes>"
      ]
     },
     "metadata": {},
     "output_type": "display_data"
    }
   ],
   "source": [
    "from sklearn.metrics import confusion_matrix\n",
    "from sklearn.metrics import ConfusionMatrixDisplay as cmd\n",
    "\n",
    "\n",
    "# Entrenar modelo como antes\n",
    "model_f = LogisticRegression(penalty=\"none\", class_weight=\"balanced\").fit(X_train, Y_train)\n",
    "\n",
    "# Probabilidades de clase 1 en test\n",
    "probs_test = model_f.predict_proba(X_test)[:, 1]\n",
    "\n",
    "thresholds = [0.5, 0.7, 0.3]\n",
    "\n",
    "for th in thresholds:\n",
    "    # Predecir clase según el umbral\n",
    "    y_pred_th = (probs_test >= th).astype(int)\n",
    "    \n",
    "    # Matriz de confusión\n",
    "    cm = confusion_matrix(Y_test, y_pred_th)\n",
    "    tn, fp, fn, tp = cm.ravel()\n",
    "    \n",
    "    # Métricas\n",
    "    accuracy = (tp + tn) / (tp + tn + fp + fn)\n",
    "    sensitivity = tp / (tp + fn)\n",
    "    specificity = tn / (tn + fp)\n",
    "    \n",
    "    print(f\"Umbral = {th}\")\n",
    "    print(f\"Exactitud: {accuracy:.3f}\")\n",
    "    print(f\"Sensibilidad: {sensitivity:.3f}\")\n",
    "    print(f\"Especificidad: {specificity:.3f}\")\n",
    "    print()\n",
    "    \n",
    "    # Mostrar matriz de confusión visualmente\n",
    "    cmd(confusion_matrix=cm,display_labels=model_f.classes_).plot(xticks_rotation=\"vertical\")"
   ]
  },
  {
   "cell_type": "markdown",
   "id": "9e4b162d-d0b4-4815-bc33-2067c9ac7869",
   "metadata": {},
   "source": [
    "---\n",
    "En este inciso, se generó el modelo de Regresión Logística, y se obtuvieron sus métricas, pero utilizando todo el subconjunto de datos del train. Se generó el vector de probabilidades y se guardó en la variable *probs_test*. Para que el modelo tome la decisión si una observación pertenece a *0* o *1*, se elijieron 3 umbrales, 0.3, 0.5 y 0.7. Si alcanza ese límite, o lo supera, el modelo decide que será *1*, en caso contrario, será *0*. \n",
    "\n",
    "Para dichos umbrales se calcularon las métricas de *Exactitud*, *Sensiblidad* y *Especificidad*. Visualmente podemos ver el desempeño de las predicciones en las matrices de confusión generadas para cada umbral.\n",
    "\n",
    "Observando los resultados del umbral de **50%**, vemos que tiene el mejor *accuracy* de 0.884, significando que, del total de predicciónes, el modelo pudo predecir un 88.4% de los predicciones positivas de manera correcta. De este umbral, vemos que su sensibilidad de 0.775, significando que el modelo predijo un 77.5% de los casos positivos correctamente , y una Especificidad de 0.916, significando que 91.6%. de los casos negativos fueron correctamente predichos.\n",
    "\n",
    "Para no hacer el análisis más largo, podemos concluir que el umbral que mejor **Accuracy** da, es el de 50%,  mientras que el umbral de 70% tiene la mejor **Especificidad**, con 95%. Y el umbral con mejor **Sensibilidad** terminó siendo el de 30%, con 91.9%. Con todo esto vemos que si queremos mejorar una métrica, es imposible que otras empeoren, y por lo tanto el umbral adecuado dependerá de la aplicación que se le de al modelo. "
   ]
  },
  {
   "cell_type": "markdown",
   "id": "c76e1d3b-ec3d-4271-ae78-959c1c6aa6c1",
   "metadata": {},
   "source": [
    "5. Grafica la curva ROC para las probabilidades calculadas en el punto previo y reporta el valor de la AUC."
   ]
  },
  {
   "cell_type": "code",
   "execution_count": 59,
   "id": "4dd74080-4523-481b-9f5c-84e73884f3d8",
   "metadata": {},
   "outputs": [
    {
     "name": "stdout",
     "output_type": "stream",
     "text": [
      "Valor AUC: 0.940\n"
     ]
    },
    {
     "data": {
      "image/png": "[encoded data removed]",
      "text/plain": [
       "<Figure size 800x600 with 1 Axes>"
      ]
     },
     "metadata": {},
     "output_type": "display_data"
    }
   ],
   "source": [
    "from sklearn.metrics import roc_curve, roc_auc_score\n",
    "import matplotlib.pyplot as plt\n",
    "\n",
    "# Calcular curva ROC\n",
    "fpr, tpr, thresholds = roc_curve(Y_test, probs_test)\n",
    "\n",
    "# Calcular AUC\n",
    "auc_score = roc_auc_score(Y_test, probs_test)\n",
    "print(f\"Valor AUC: {auc_score:.3f}\")\n",
    "\n",
    "# Graficar curva ROC\n",
    "plt.figure(figsize=(8,6))\n",
    "plt.plot(fpr, tpr, color='blue', label=f'ROC curve (AUC = {auc_score:.3f})')\n",
    "plt.xlabel('False Positive Rate')\n",
    "plt.ylabel('True Positive Rate')\n",
    "plt.title('Curva ROC - Regresión Logística')\n",
    "plt.legend(loc='lower right')\n",
    "plt.grid(True)\n",
    "plt.show()\n"
   ]
  },
  {
   "cell_type": "markdown",
   "id": "298c4ab1-f20b-44ac-a7d4-df13b64d498c",
   "metadata": {},
   "source": [
    "---\n",
    "La curva **ROC** (Receiver Operating Characteristic) muestra la relación entre la **tasa de verdaderos positivos** (TPR o sensibilidad) y la **tasa de falsos positivos** (FPR) para diferentes umbrales de decisión del modelo de regresión logística. La curva se acerca bastante al vértice superior izquierdo, lo cual nos indica que el modelo logra una alta tasa de aciertos verdaderos mientras mantiene baja la cantidad de falsos positivos.\n",
    "\n",
    "El **AUC (Area Under the Curve)** obtenido es 0.940, lo que significa que el modelo tiene un excelente poder de distinción entre las dos clases. En términos prácticos, un AUC de 0.94 implica que, si se eligen al azar un ejemplo positivo y uno negativo, el modelo tiene un 94% de probabilidad de asignar una mayor puntuación al positivo que al negativo. Valores de AUC cercanos a 1 representan modelos muy buenos, mientras que un AUC de 0.5 indicaría un modelo de clasificación aleatorio.\n",
    "\n",
    "En conclusión, la curva ROC y el valor de AUC muestran que la regresión logística entrenada logra un rendimiento muy alto en este conjunto de datos."
   ]
  },
  {
   "cell_type": "markdown",
   "id": "af8ae6fc-56ee-4df6-b6c8-7e46d3100f14",
   "metadata": {},
   "source": [
    "6. Interpreta los resultados del modelo, describiendo cómo es que cada variable afecta a la salida, en términos de los coeficientes generados."
   ]
  },
  {
   "cell_type": "code",
   "execution_count": 13,
   "id": "c9c34b45-5bc0-42f7-b913-a553795d3fec",
   "metadata": {},
   "outputs": [
    {
     "name": "stdout",
     "output_type": "stream",
     "text": [
      "  Variable  Coeficiente  Odds_ratio\n",
      "0    H001A    -0.000544    0.999456\n",
      "1    H001D     0.000678    1.000679\n",
      "2    A111A     0.002028    1.002030\n",
      "3    K060A     0.012744    1.012826\n",
      "4    K820A     0.302845    1.353705\n"
     ]
    }
   ],
   "source": [
    "coef_df = pd.DataFrame({\n",
    "    'Variable': X_train.columns,\n",
    "    'Coeficiente': model_f.coef_[0]\n",
    "})\n",
    "\n",
    "# Calcular el efecto en términos de odds ratio\n",
    "coef_df['Odds_ratio'] = np.exp(coef_df['Coeficiente'])\n",
    "\n",
    "print(coef_df)"
   ]
  },
  {
   "cell_type": "markdown",
   "id": "e8511a28-50b8-4e30-8985-396d55ab41a0",
   "metadata": {},
   "source": [
    "### Interpretación de los coeficientes del modelo de regresión logística\n",
    "\n",
    "El modelo fue entrenado para predecir si el gasto por consumo de energía eléctrica de una unidad económica (`K412A`) revasa el promedio (1), y se considera para esta actividad como \"alto\", o está por debajo del promedio (0) usando cinco variables:\n",
    "\n",
    "\n",
    "| Variable | Coeficiente | Odds ratio |\n",
    "|----------|------------|------------|\n",
    "| H001A    | -0.000544  | 0.999456   |\n",
    "| H001D    | 0.000678   | 1.000679   |\n",
    "| A111A    | 0.002028   | 1.002030   |\n",
    "| K060A    | 0.012744   | 1.012826   |\n",
    "| K820A    | 0.302845   | 1.353705   |\n",
    "\n",
    "---\n",
    "\n",
    "### Interpretación general\n",
    "\n",
    "1. **H001A (Personal ocupado total)**: Por cada unidad adicional en H001A, la probabilidad de gasto alto en energía disminuye ligeramente. El efecto es muy pequeño, casi neutro.\n",
    "\n",
    "2. **H001D (Sueldos y salarios)**: Incrementos en H001D aumentan la probabilidad de gasto alto de forma mínima.\n",
    "\n",
    "3. **A111A (Producciíon Bruta Total)**: A mayor Producción Bruta Total, la probabilidad de consumo de energía alto aumenta ligeramente.\n",
    "\n",
    "4. **K060A (Contratación de Servicios Profesionales, Científicos y Técnicos)**: Un aumento en K060A incrementa la probabilidad de gasto alto moderadamente.\n",
    "\n",
    "5. **K820A (Gastos por Servicios de Comunicación)**: Esta variable tiene el mayor impacto relativo, pues cada unidad adicional aumenta significativamente la probabilidad de gasto alto en energía (~35% en odds).\n",
    "\n",
    "---\n",
    "\n",
    "### Interpretación técnica\n",
    "\n",
    "En regresión logística, vimos que la relación entre predictores y salida se define como:\n",
    "\n",
    "<center> $P(Y=1 \\mid X) = \\frac{1}{1 + e^{-z}}, \\quad z = \\beta_0 + \\beta_1 X_1 + \\dots + \\beta_p X_p$</center>\n",
    "\n",
    "\n",
    "\n",
    "Donde:\n",
    "\n",
    "- $P(Y=1 \\mid X)$ = probabilidad de gasto alto  \n",
    "- $z$ = logaritmo natural de los **odds** (momios) de que la unidad económica gaste alto  \n",
    "- $\\beta_i$ = coeficiente de cada variable $X_i$\n",
    "\n",
    "**Interpretación de coeficientes:**\n",
    "\n",
    "- Cada $\\beta_i$ indica **el cambio en el logaritmo natural de los momios** por cada unidad adicional de $X_i$, manteniendo las demás variables constantes.\n",
    "- Exponenciando $\\beta_i$ se obtiene el **odds ratio**, que muestra el multiplicador de los momios para clase 1.\n",
    "\n",
    "\n",
    "| Variable | Coeficiente | Odds ratio | Interpretación log-odds |\n",
    "|----------|------------|------------|------------------------|\n",
    "| H001A    | -0.000544  | 0.999456   | Cada unidad de H001A reduce ln(odds) ligeramente |\n",
    "| H001D    | 0.000678   | 1.000679   | Cada unidad de H001D aumenta ln(odds) ligeramente |\n",
    "| A111A    | 0.002028   | 1.002030   | Cada unidad de ingreso aumenta ln(odds) de gastar alto |\n",
    "| K060A    | 0.012744   | 1.012826   | Incrementos moderados en K060A aumentan ln(odds) |\n",
    "| K820A    | 0.302845   | 1.353705   | Incrementos en K820A aumentan ln(odds) significativamente (~35% en odds) |\n",
    "\n",
    "---\n",
    "**En Resumen**:\n",
    "\n",
    "- Variables como H001A y H001D tienen efecto casi neutro.  \n",
    "- Variables económicas como A111A y K060A muestran efecto positivo moderado.  \n",
    "- K820A es la más influyente, afectando significativamente la probabilidad de gasto alto en energía.  \n",
    "- Recordemos que técnicamente, todos los coeficientes representan cambios en el **logaritmo natural de los momios**\n"
   ]
  },
  {
   "cell_type": "code",
   "execution_count": null,
   "id": "02ef6fae-2b27-4128-bb4c-06ba090df428",
   "metadata": {},
   "outputs": [],
   "source": []
  }
 ],
 "metadata": {
  "kernelspec": {
   "display_name": "Python (ia310)",
   "language": "python",
   "name": "ia310"
  },
  "language_info": {
   "codemirror_mode": {
    "name": "ipython",
    "version": 3
   },
   "file_extension": ".py",
   "mimetype": "text/x-python",
   "name": "python",
   "nbconvert_exporter": "python",
   "pygments_lexer": "ipython3",
   "version": "3.10.18"
  }
 },
 "nbformat": 4,
 "nbformat_minor": 5
}
